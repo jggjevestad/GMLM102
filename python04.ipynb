{
 "cells": [
  {
   "cell_type": "code",
   "execution_count": 1,
   "id": "e21f2945-7a9e-4ddb-b50c-5e811854e0bc",
   "metadata": {},
   "outputs": [
    {
     "name": "stdout",
     "output_type": "stream",
     "text": [
      "DH = -36.2698 m\n"
     ]
    }
   ],
   "source": [
    "from numpy import cos, sin\n",
    "from navlib.convert import grad2rad\n",
    "\n",
    "# Jordradius\n",
    "R = 6390000             # meter\n",
    "\n",
    "# Observasjoner\n",
    "ds = 974.391            # meter\n",
    "z = grad2rad(102.3741)  # rad\n",
    "s = 1.473               # meter\n",
    "i = 1.532               # meter\n",
    "k = 0.18\n",
    "\n",
    "# Beregn høydeforskjell uten korreksjon\n",
    "DH = ds*cos(z) + i - s\n",
    "print(f\"DH = {DH:.4f} m\")"
   ]
  },
  {
   "cell_type": "code",
   "execution_count": 2,
   "id": "1afea803-451a-4e20-8844-f18c6ec70a0f",
   "metadata": {},
   "outputs": [
    {
     "name": "stdout",
     "output_type": "stream",
     "text": [
      "J = 0.0742 m\n",
      "L = 0.0134 m\n",
      "DH = -36.2090 m\n"
     ]
    }
   ],
   "source": [
    "# Korreksjon for jordkrumning og refraksjon\n",
    "def hcorr(R, ds, z, k):\n",
    "    J = (ds*sin(z))**2/(2*R)\n",
    "    L = (ds**2*k)/(2*R)\n",
    "    return J, L\n",
    "\n",
    "# Beregn korreksjon for jordkrumning og refraksjon\n",
    "J, L = hcorr(R, ds, z, k)\n",
    "print(f\"J = {J:.4f} m\")\n",
    "print(f\"L = {L:.4f} m\")\n",
    "\n",
    "# Beregn høydeforskjell med korreksjon\n",
    "DH = ds*cos(z) + i - s + J - L\n",
    "print(f\"DH = {DH:.4f} m\")"
   ]
  },
  {
   "cell_type": "code",
   "execution_count": 3,
   "id": "cb30aa02-f6b3-4bc6-b071-d7240b8560ae",
   "metadata": {},
   "outputs": [
    {
     "name": "stdout",
     "output_type": "stream",
     "text": [
      "DH = -36.2090 m\n"
     ]
    }
   ],
   "source": [
    "# Beregn senitvinkel korrigert for jordkrumning og refraksjon\n",
    "zJL = z - ds*sin(z)/(2*R)*(1 - k)\n",
    "\n",
    "# Beregnet høydeforskjell med korrigert senitvinkel\n",
    "DH = ds*cos(zJL) + i - s\n",
    "print(f\"DH = {DH:.4f} m\")"
   ]
  }
 ],
 "metadata": {
  "kernelspec": {
   "display_name": "Python 3 (ipykernel)",
   "language": "python",
   "name": "python3"
  },
  "language_info": {
   "codemirror_mode": {
    "name": "ipython",
    "version": 3
   },
   "file_extension": ".py",
   "mimetype": "text/x-python",
   "name": "python",
   "nbconvert_exporter": "python",
   "pygments_lexer": "ipython3",
   "version": "3.12.2"
  }
 },
 "nbformat": 4,
 "nbformat_minor": 5
}
