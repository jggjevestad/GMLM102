{
 "cells": [
  {
   "cell_type": "code",
   "execution_count": 1,
   "id": "4128570e-1ea4-443d-90cf-ff64c4679d1a",
   "metadata": {},
   "outputs": [
    {
     "name": "stdout",
     "output_type": "stream",
     "text": [
      "xP = 99.101 m, yP = 55.399 m\n"
     ]
    }
   ],
   "source": [
    "from numpy import sin, cos, pi, sqrt, arctan\n",
    "\n",
    "def grad2rad(grad):\n",
    "    return grad*pi/200\n",
    "\n",
    "def rad2grad(rad):\n",
    "    return rad*200/pi\n",
    "\n",
    "xA = 10               # meter\n",
    "yA = 10               # meter\n",
    "phiAP = grad2rad(30)  # rad\n",
    "dAP = 100             # meter\n",
    "\n",
    "xP = xA + dAP*cos(phiAP)\n",
    "yP = yA + dAP*sin(phiAP)\n",
    "\n",
    "print(f\"xP = {xP:.3f} m, yP = {yP:.3f} m\")"
   ]
  },
  {
   "cell_type": "code",
   "execution_count": 2,
   "id": "cef7f64b-47cf-4489-908e-b978ac38bb91",
   "metadata": {},
   "outputs": [
    {
     "name": "stdout",
     "output_type": "stream",
     "text": [
      "d = 100.000 m, phi = 30.0000 gon\n"
     ]
    }
   ],
   "source": [
    "Dx = xP - xA\n",
    "Dy = yP - yA\n",
    "\n",
    "dAP = sqrt(Dx**2 + Dy**2)\n",
    "phiAP = arctan(Dy/Dx)\n",
    "\n",
    "print(f\"d = {dAP:.3f} m, phi = {rad2grad(phiAP):.4f} gon\")"
   ]
  }
 ],
 "metadata": {
  "kernelspec": {
   "display_name": "Python 3 (ipykernel)",
   "language": "python",
   "name": "python3"
  },
  "language_info": {
   "codemirror_mode": {
    "name": "ipython",
    "version": 3
   },
   "file_extension": ".py",
   "mimetype": "text/x-python",
   "name": "python",
   "nbconvert_exporter": "python",
   "pygments_lexer": "ipython3",
   "version": "3.12.2"
  }
 },
 "nbformat": 4,
 "nbformat_minor": 5
}
