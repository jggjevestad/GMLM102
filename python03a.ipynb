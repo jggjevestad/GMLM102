{
 "cells": [
  {
   "cell_type": "code",
   "execution_count": 3,
   "id": "5e197464-de88-488c-b704-40b143f37b99",
   "metadata": {},
   "outputs": [
    {
     "name": "stdout",
     "output_type": "stream",
     "text": [
      "xP = 236.083 m, yP = 495.363 m\n",
      "(ZA = 255.1000 gon)\n"
     ]
    }
   ],
   "source": [
    "from numpy import sin, cos, arctan, pi\n",
    "\n",
    "def grad2rad(grad):\n",
    "    return grad*pi/200\n",
    "\n",
    "def rad2grad(rad):\n",
    "    return rad*200/pi\n",
    "\n",
    "\n",
    "# Koordinater\n",
    "xA = 100.239               # meter\n",
    "yA = 340.168               # meter\n",
    "xB = 305.531               # meter\n",
    "yB = 155.731               # meter\n",
    "\n",
    "# Observasjoner\n",
    "rAB = grad2rad(98.3034)    # rad\n",
    "rAP = grad2rad(199.1267)   # rad\n",
    "dAP = 206.250              # meter\n",
    "\n",
    "# Beregn retning AB\n",
    "phiAB = arctan((yB - yA)/(xB - xA))\n",
    "\n",
    "# Beregn orienteringselement\n",
    "ZA = phiAB - rAB\n",
    "\n",
    "# Beregn retning AP\n",
    "phiAP = ZA + rAP\n",
    "\n",
    "# Beregn koordinater\n",
    "xP = xA + dAP*cos(phiAP)\n",
    "yP = yA + dAP*sin(phiAP)\n",
    "\n",
    "print(f\"xP = {xP:.3f} m, yP = {yP:.3f} m\")\n",
    "print(f\"(ZA = {rad2grad(2*pi + ZA):.4f} gon)\")"
   ]
  }
 ],
 "metadata": {
  "kernelspec": {
   "display_name": "Python 3 (ipykernel)",
   "language": "python",
   "name": "python3"
  },
  "language_info": {
   "codemirror_mode": {
    "name": "ipython",
    "version": 3
   },
   "file_extension": ".py",
   "mimetype": "text/x-python",
   "name": "python",
   "nbconvert_exporter": "python",
   "pygments_lexer": "ipython3",
   "version": "3.12.2"
  }
 },
 "nbformat": 4,
 "nbformat_minor": 5
}
