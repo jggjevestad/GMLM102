{
 "cells": [
  {
   "cell_type": "markdown",
   "id": "d3d47c63-58ab-4cbb-91c5-e7ee71c214eb",
   "metadata": {},
   "source": [
    "### Eksempel {-}\n",
    "\n",
    "Vinkelen $\\alpha$ er gitt i enhet gon. Beregn vinkelen som dms i 360° systemet (seksagesimal form)"
   ]
  },
  {
   "cell_type": "code",
   "execution_count": 1,
   "id": "9c23c0e3-31a6-45cf-b1a8-f96c13f7873a",
   "metadata": {},
   "outputs": [
    {
     "name": "stdout",
     "output_type": "stream",
     "text": [
      "alpha = 342°08'07.62\"\n"
     ]
    }
   ],
   "source": [
    "alpha = 380.1505    # gon\n",
    "\n",
    "d = alpha * (180/200)\n",
    "m = (d - int(d)) * 60\n",
    "s = (m - int(m)) * 60\n",
    "\n",
    "print(f\"alpha = {int(d):03d}°{int(m):02d}'{s:05.2f}\\\"\")"
   ]
  },
  {
   "cell_type": "code",
   "execution_count": 2,
   "id": "e1d2a4dc-6dc7-425d-b441-a6e4dbf9f257",
   "metadata": {},
   "outputs": [
    {
     "name": "stdout",
     "output_type": "stream",
     "text": [
      "alpha = 380.1505 gon\n"
     ]
    }
   ],
   "source": [
    "alpha = (int(d) + int(m)/60 + s/3600) * (200/180)\n",
    "print(f\"alpha = {alpha:8.4f} gon\")"
   ]
  }
 ],
 "metadata": {
  "kernelspec": {
   "display_name": "Python 3 (ipykernel)",
   "language": "python",
   "name": "python3"
  },
  "language_info": {
   "codemirror_mode": {
    "name": "ipython",
    "version": 3
   },
   "file_extension": ".py",
   "mimetype": "text/x-python",
   "name": "python",
   "nbconvert_exporter": "python",
   "pygments_lexer": "ipython3",
   "version": "3.12.2"
  }
 },
 "nbformat": 4,
 "nbformat_minor": 5
}
