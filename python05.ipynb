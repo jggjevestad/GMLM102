{
 "cells": [
  {
   "cell_type": "code",
   "execution_count": 1,
   "id": "c1b00d66-cef0-4b95-92e3-51cd57da2209",
   "metadata": {},
   "outputs": [],
   "source": [
    "# Import\n",
    "from numpy import sqrt, sin, cos, arctan, pi\n",
    "from navlib.convert import grad2rad, rad2grad\n",
    "\n",
    "# Jordradius\n",
    "R = 6390e3        # meter\n",
    "\n",
    "# Geoidehøyde\n",
    "N = 39            # meter\n",
    "\n",
    "# Refraksjonskoeffesient\n",
    "k = 0.18\n",
    "\n",
    "# UTM projeksjon\n",
    "fN = 0\n",
    "fE = 500000       # meter\n",
    "m0 = 0.9996\n",
    "\n",
    "# Koordinater UTM\n",
    "NA = 6833770.048  # meter\n",
    "EA = 562959.591   # meter\n",
    "HA = 1051.234     # meter (ortometrisk høyde)\n",
    "hA = HA + N       # meter (ellipsoidisk høyde)\n",
    "\n",
    "NB = 6835369.784  # meter\n",
    "EB = 562419.638   # meter\n",
    "HB = 934.169      # meter (ortometrisk høyde)\n",
    "hB = HB + N       # meter (ellipsoidisk høyde)\n",
    "\n",
    "# Observasjoner\n",
    "rAB = grad2rad(294.2768)    # rad\n",
    "zAB = grad2rad(104.4149)    # rad\n",
    "dsAB = 1693.330             # meter\n",
    "\n",
    "rAP = grad2rad(122.6609)    # rad\n",
    "zAP = grad2rad(108.8654)    # rad\n",
    "dsAP = 1351.899             # meter\n",
    "\n",
    "ihA = 1.342        # meter\n",
    "shB = 1.265        # meter\n",
    "shP = 1.672        # meter"
   ]
  },
  {
   "cell_type": "code",
   "execution_count": 2,
   "id": "a9038c5f-83d0-4f4e-b8a8-e1cf21c87dd0",
   "metadata": {},
   "outputs": [
    {
     "name": "stdout",
     "output_type": "stream",
     "text": [
      "xA = 6836504.650 m, yA =  62984.785 m\n",
      "xB = 6838105.026 m, yB =  62444.616 m\n"
     ]
    }
   ],
   "source": [
    "# Gaussiske koordinater\n",
    "xA = (NA - fN)/m0\n",
    "yA = (EA - fE)/m0\n",
    "print(f\"xA = {xA:10.3f} m, yA = {yA:10.3f} m\")\n",
    "\n",
    "xB = (NB - fN)/m0\n",
    "yB = (EB - fE)/m0\n",
    "print(f\"xB = {xB:10.3f} m, yB = {yB:10.3f} m\")"
   ]
  },
  {
   "cell_type": "code",
   "execution_count": 3,
   "id": "a7e6290c-9831-4079-96e9-1171a3a3fa1f",
   "metadata": {},
   "outputs": [
    {
     "name": "stdout",
     "output_type": "stream",
     "text": [
      "zAPk =   108.8599 gon\n"
     ]
    }
   ],
   "source": [
    "# Beregn senitvinkel korrigert for jordkrumning og refraksjon\n",
    "zAPk = zAP - dsAP*sin(zAP)/(2*R)*(1 - k)\n",
    "print(f\"zAPk = {rad2grad(zAPk):10.4f} gon\")"
   ]
  },
  {
   "cell_type": "code",
   "execution_count": 4,
   "id": "bb0b4bc3-0697-4d82-9753-fa570f999339",
   "metadata": {},
   "outputs": [
    {
     "name": "stdout",
     "output_type": "stream",
     "text": [
      "phiAB =   379.2768 gon\n"
     ]
    }
   ],
   "source": [
    "# Beregnet retningsvinkel fra koordinatene\n",
    "Dx = xB - xA\n",
    "Dy = yB - yA\n",
    "\n",
    "phiAB = arctan(abs(Dy)/abs(Dx))\n",
    "\n",
    "if (Dx > 0) and (Dy >= 0):\n",
    "    phiAB = phiAB\n",
    "elif (Dx < 0) and (Dy >= 0):\n",
    "    phiAB = pi - phiAB\n",
    "elif (Dx < 0) and (Dy <= 0):\n",
    "    phiAB = pi + phiAB\n",
    "else:\n",
    "    phiAB = 2*pi - phiAB\n",
    "\n",
    "print(f\"phiAB = {rad2grad(phiAB):10.4f} gon\")"
   ]
  },
  {
   "cell_type": "code",
   "execution_count": 5,
   "id": "7b965abf-b5a0-478e-8bf9-c1fabb6e3ab0",
   "metadata": {},
   "outputs": [
    {
     "name": "stdout",
     "output_type": "stream",
     "text": [
      "ZA:   84.99999 gon\n"
     ]
    }
   ],
   "source": [
    "# Orienteringselement\n",
    "ZA = phiAB - rAB\n",
    "print(f\"ZA: {rad2grad(ZA):10.5f} gon\")"
   ]
  },
  {
   "cell_type": "code",
   "execution_count": 6,
   "id": "41fe98cb-95d1-41d2-949a-738d86966901",
   "metadata": {},
   "outputs": [
    {
     "name": "stdout",
     "output_type": "stream",
     "text": [
      "xP =  6835175.504 m\n",
      "yP =    62824.063 m\n",
      "HP =      863.365 m\n",
      "hP =      902.365 m\n"
     ]
    }
   ],
   "source": [
    "# Horisontalavstand\n",
    "dhAP = dsAP*sin(zAPk)\n",
    "\n",
    "# Horisontalvinkel\n",
    "phiAP = ZA + rAP\n",
    "\n",
    "# Foreløpige koordinater i punkt P\n",
    "xP = xA + dhAP*cos(phiAP)\n",
    "yP = yA + dhAP*sin(phiAP)\n",
    "HP = HA + dsAP*cos(zAPk) + ihA - shP\n",
    "hP = HP + N\n",
    "\n",
    "print(f\"xP = {xP:12.3f} m\")\n",
    "print(f\"yP = {yP:12.3f} m\")\n",
    "print(f\"HP = {HP:12.3f} m\")\n",
    "print(f\"hP = {hP:12.3f} m\")"
   ]
  },
  {
   "cell_type": "code",
   "execution_count": 7,
   "id": "cf7f024f-bfac-40b7-ad5a-72ae2ebdfd02",
   "metadata": {},
   "outputs": [
    {
     "name": "stdout",
     "output_type": "stream",
     "text": [
      "dAP0 = 1338.619 m\n"
     ]
    }
   ],
   "source": [
    "# Korreksjon for høyde over ellipsoiden\n",
    "dAP0 = dsAP*sin(zAPk)*(1 - (hA + hP)/(2*R))\n",
    "print(f\"dAP0 = {dAP0:8.3f} m\")"
   ]
  },
  {
   "cell_type": "code",
   "execution_count": 8,
   "id": "8c38a82d-0ca0-44ae-ad49-195a8365a751",
   "metadata": {},
   "outputs": [
    {
     "name": "stdout",
     "output_type": "stream",
     "text": [
      "dAPk =   1338.684 m\n",
      "rAPk =  122.66083 gon\n",
      "phiAPk =  207.66082 gon\n"
     ]
    }
   ],
   "source": [
    "# Korreksjon for kartprojeksjon\n",
    "yAPm = (yA + yP)/2\n",
    "dAPk = dAP0*(1 + yAPm**2/(2*R**2))\n",
    "print(f\"dAPk = {dAPk:10.3f} m\")\n",
    "\n",
    "rAPk = rAP - (xA - xP)/(6*R**2)*(2*yA + yP)\n",
    "print(f\"rAPk = {rad2grad(rAPk):10.5f} gon\")\n",
    "\n",
    "phiAPk = ZA + rAPk\n",
    "print(f\"phiAPk = {rad2grad(phiAPk):10.5f} gon\")"
   ]
  },
  {
   "cell_type": "code",
   "execution_count": 9,
   "id": "3dac9ae8-ae3e-4efb-b460-12666d968ec1",
   "metadata": {},
   "outputs": [
    {
     "name": "stdout",
     "output_type": "stream",
     "text": [
      "xP:  6832441.576 m\n",
      "yP:   562798.952 m\n",
      "HP:      863.365 m\n"
     ]
    }
   ],
   "source": [
    "# Endelige koordinater i punkt P\n",
    "xP = xA + dAPk*cos(phiAPk)\n",
    "yP = yA + dAPk*sin(phiAPk)\n",
    "HP = HA + dsAP*cos(zAPk) + ihA - shP\n",
    "\n",
    "# Beregner UTM koordinater\n",
    "NP = xP*m0 + fN\n",
    "EP = yP*m0 + fE\n",
    "\n",
    "print(f\"xP: {NP:12.3f} m\")\n",
    "print(f\"yP: {EP:12.3f} m\")\n",
    "print(f\"HP: {HP:12.3f} m\")"
   ]
  }
 ],
 "metadata": {
  "kernelspec": {
   "display_name": "Python 3 (ipykernel)",
   "language": "python",
   "name": "python3"
  },
  "language_info": {
   "codemirror_mode": {
    "name": "ipython",
    "version": 3
   },
   "file_extension": ".py",
   "mimetype": "text/x-python",
   "name": "python",
   "nbconvert_exporter": "python",
   "pygments_lexer": "ipython3",
   "version": "3.12.2"
  }
 },
 "nbformat": 4,
 "nbformat_minor": 5
}
