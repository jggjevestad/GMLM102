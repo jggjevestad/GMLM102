{
 "cells": [
  {
   "cell_type": "code",
   "execution_count": 1,
   "id": "c7140b5f-6c56-4c8e-97c7-f9a4c6ba37a5",
   "metadata": {},
   "outputs": [
    {
     "name": "stdout",
     "output_type": "stream",
     "text": [
      "xP = 171.234 m, yP = 155.678 m\n",
      "(ZA = 93.6549 gon)\n"
     ]
    }
   ],
   "source": [
    "from numpy import sin, cos, arctan, pi\n",
    "\n",
    "def grad2rad(grad):\n",
    "    return grad*pi/200\n",
    "\n",
    "def rad2grad(rad):\n",
    "    return rad*200/pi\n",
    "\n",
    "\n",
    "# Koordinater\n",
    "xA = 100.000               # meter\n",
    "yA = 100.000               # meter\n",
    "xB = 110.000               # meter\n",
    "yB = 200.000               # meter\n",
    "\n",
    "# Observasjoner\n",
    "rAB = grad2rad(0)          # rad\n",
    "rAP = grad2rad(348.5806)   # rad\n",
    "dAP = 90.412               # meter\n",
    "\n",
    "# Beregn retning AB\n",
    "phiAB = arctan((yB - yA)/(xB - xA))\n",
    "\n",
    "# Beregn orienteringselement\n",
    "ZA = phiAB - rAB\n",
    "\n",
    "# Beregn retning AP\n",
    "phiAP = ZA + rAP\n",
    "\n",
    "# Beregn koordinater til punkt P\n",
    "xP = xA + dAP*cos(phiAP)\n",
    "yP = yA + dAP*sin(phiAP)\n",
    "\n",
    "print(f\"xP = {xP:.3f} m, yP = {yP:.3f} m\")\n",
    "print(f\"(ZA = {rad2grad(ZA):.4f} gon)\")"
   ]
  }
 ],
 "metadata": {
  "kernelspec": {
   "display_name": "Python 3 (ipykernel)",
   "language": "python",
   "name": "python3"
  },
  "language_info": {
   "codemirror_mode": {
    "name": "ipython",
    "version": 3
   },
   "file_extension": ".py",
   "mimetype": "text/x-python",
   "name": "python",
   "nbconvert_exporter": "python",
   "pygments_lexer": "ipython3",
   "version": "3.12.2"
  }
 },
 "nbformat": 4,
 "nbformat_minor": 5
}
